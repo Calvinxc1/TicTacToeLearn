{
 "cells": [
  {
   "cell_type": "code",
   "execution_count": 296,
   "metadata": {},
   "outputs": [],
   "source": [
    "import pandas as pd\n",
    "import numpy as np\n",
    "import tqdm\n",
    "import matplotlib.pyplot as plt"
   ]
  },
  {
   "cell_type": "code",
   "execution_count": 287,
   "metadata": {},
   "outputs": [],
   "source": [
    "class Board:\n",
    "    def __init__(self):\n",
    "        self.reset_board()\n",
    "        \n",
    "    def turn(self, player, loc):\n",
    "        if self.winner is not None:\n",
    "            raise Exception(\"The game is currently won by player %s.\" % self.winner)\n",
    "        \n",
    "        if player != self.player_turn:\n",
    "            raise Exception(\"It is player %s's turn.\" % self.player_turn)\n",
    "        \n",
    "        if self.area[loc] != -1:\n",
    "            raise Exception('Space %s is already claimed by player %s.' % (loc, self.area[loc]))\n",
    "            \n",
    "        self.area[loc] = player\n",
    "        self.move_rcd.append((player, loc))\n",
    "        self.win_check()\n",
    "        \n",
    "        self.player_turn = (self.player_turn + 1) % 2\n",
    "        \n",
    "    def win_check(self):\n",
    "        for player in (0, 1):\n",
    "            for i in range(3):\n",
    "                if np.all(self.area[i,:] == player):\n",
    "                    self.winner = player\n",
    "                    \n",
    "            for i in range(3):\n",
    "                if np.all(self.area[:,i] == player):\n",
    "                    self.winner = player\n",
    "                    \n",
    "            if np.all(np.array([self.area[i,i] for i in range(3)]) == player):\n",
    "                self.winner = player\n",
    "                \n",
    "            if np.all(np.array([self.area[i,2-i] for i in range(3)]) == player):\n",
    "                self.winner = player\n",
    "                \n",
    "        if np.all(self.area != -1):\n",
    "            self.winner = 'draw'\n",
    "    \n",
    "    @property\n",
    "    def free_moves(self):\n",
    "        moves = []\n",
    "        if self.winner is None:\n",
    "            for i in range(3):\n",
    "                for j in range(3):\n",
    "                    if self.area[i,j] == -1:\n",
    "                        moves.append((i,j))\n",
    "        \n",
    "        return moves\n",
    "    \n",
    "    def reset_board(self):\n",
    "        self.area = np.zeros((3,3)).astype(int) - 1\n",
    "        self.player_turn = 0\n",
    "        self.winner = None\n",
    "        self.move_rcd = []"
   ]
  },
  {
   "cell_type": "code",
   "execution_count": 288,
   "metadata": {},
   "outputs": [],
   "source": [
    "class PlayerRand:\n",
    "    def __init__(self, player_num):\n",
    "        self.player_num = player_num\n",
    "        \n",
    "    def make_move(self, board):\n",
    "        moves = self.check_moves(board)\n",
    "        if len(moves) > 0:\n",
    "            move = moves[np.random.choice(np.arange(len(moves)))]\n",
    "            board.turn(self.player_num, move)\n",
    "        \n",
    "    def check_moves(self, board):\n",
    "        moves = board.free_moves\n",
    "        return moves\n",
    "    \n",
    "    def new_game(self):\n",
    "        pass"
   ]
  },
  {
   "cell_type": "code",
   "execution_count": 289,
   "metadata": {},
   "outputs": [],
   "source": [
    "class PlayerLearn(PlayerRand):\n",
    "    def __init__(self, player_num):\n",
    "        super().__init__(player_num)\n",
    "        self.learn_tree = {}\n",
    "        self.move_record = []\n",
    "        self.win = None\n",
    "        \n",
    "    def make_move(self, board):\n",
    "        moves = self.check_moves(board)\n",
    "        if len(moves) > 0:\n",
    "            if self.learn_tree.get(str(moves), None) is None:\n",
    "                self.learn_tree[str(moves)] = {\n",
    "                    'successes': np.zeros(len(moves)),\n",
    "                    'attempts': np.zeros(len(moves))\n",
    "                }\n",
    "                probs = np.array([1/len(moves)] * len(moves))\n",
    "            else:\n",
    "                numer = self.learn_tree[str(moves)]['successes']\n",
    "                denom = self.learn_tree[str(moves)]['attempts']\n",
    "                probs = numer / denom\n",
    "                probs[pd.isnull(probs)] = 1 / len(moves)\n",
    "                if probs.sum() == 0:\n",
    "                    probs = np.array([1/len(moves)] * len(moves))\n",
    "                else:\n",
    "                    probs /= probs.sum()\n",
    "                \n",
    "            move = moves[np.random.choice(np.arange(len(moves)), p = probs)]\n",
    "            self.move_record.append((moves, moves.index(move)))\n",
    "            board.turn(self.player_num, move)\n",
    "        else:\n",
    "            if board.winner == self.player_num:\n",
    "                self.win = True\n",
    "            elif board.winner == 'draw':\n",
    "                self.win = 'draw'\n",
    "            \n",
    "    def new_game(self):\n",
    "        for moves, move_idx in self.move_record:\n",
    "            self.learn_tree[str(moves)]['attempts'][move_idx] += 1\n",
    "            if self.win is True: success = 1\n",
    "            elif self.win == 'draw': success = 0.5\n",
    "            else: success = 0\n",
    "            self.learn_tree[str(moves)]['successes'][move_idx] += success\n",
    "            \n",
    "        self.move_record = []\n",
    "        self.win = None"
   ]
  },
  {
   "cell_type": "code",
   "execution_count": 299,
   "metadata": {},
   "outputs": [],
   "source": [
    "board = Board()"
   ]
  },
  {
   "cell_type": "code",
   "execution_count": 300,
   "metadata": {},
   "outputs": [],
   "source": [
    "player_1 = PlayerLearn(0)\n",
    "player_2 = PlayerLearn(1)\n",
    "play_rcd = []\n",
    "stats_rcd = []"
   ]
  },
  {
   "cell_type": "code",
   "execution_count": 301,
   "metadata": {},
   "outputs": [
    {
     "data": {
      "application/vnd.jupyter.widget-view+json": {
       "model_id": "35a4a639c4f74176a66eaaf7a8bf16d9",
       "version_major": 2,
       "version_minor": 0
      },
      "text/plain": [
       "HBox(children=(IntProgress(value=0, max=10000), HTML(value='')))"
      ]
     },
     "metadata": {},
     "output_type": "display_data"
    },
    {
     "name": "stderr",
     "output_type": "stream",
     "text": [
      "/home/calvinxc1/conda/envs/standard/lib/python3.6/site-packages/ipykernel_launcher.py:20: RuntimeWarning: invalid value encountered in true_divide\n"
     ]
    }
   ],
   "source": [
    "t = tqdm.tnrange(1000)\n",
    "for i in t:\n",
    "    while board.winner is None:\n",
    "        player_1.make_move(board)\n",
    "        player_2.make_move(board)\n",
    "    play_rcd.append(board.winner)\n",
    "    board.reset_board()\n",
    "    player_1.new_game()\n",
    "    player_2.new_game()\n",
    "    stats = (pd.Series(play_rcd).value_counts() / len(play_rcd))\n",
    "    stats_rcd.append(stats)\n",
    "    stats = stats.to_dict()\n",
    "    t.set_postfix({'win': stats.get(0, 0), 'loss': stats.get(1, 0), 'draw': stats.get('draw', 0)})"
   ]
  },
  {
   "cell_type": "code",
   "execution_count": 304,
   "metadata": {},
   "outputs": [
    {
     "data": {
      "text/plain": [
       "[<matplotlib.lines.Line2D at 0x7f2caf056080>]"
      ]
     },
     "execution_count": 304,
     "metadata": {},
     "output_type": "execute_result"
    },
    {
     "data": {
      "image/png": "[encoded data removed]",
      "text/plain": [
       "<Figure size 1152x720 with 1 Axes>"
      ]
     },
     "metadata": {
      "needs_background": "light"
     },
     "output_type": "display_data"
    }
   ],
   "source": [
    "plt.figure(figsize=(16,10))\n",
    "plt.plot([stat.to_dict().get(1, 0) for stat in stats_rcd])"
   ]
  },
  {
   "cell_type": "code",
   "execution_count": null,
   "metadata": {},
   "outputs": [],
   "source": []
  }
 ],
 "metadata": {
  "kernelspec": {
   "display_name": "Python 3",
   "language": "python",
   "name": "python3"
  },
  "language_info": {
   "codemirror_mode": {
    "name": "ipython",
    "version": 3
   },
   "file_extension": ".py",
   "mimetype": "text/x-python",
   "name": "python",
   "nbconvert_exporter": "python",
   "pygments_lexer": "ipython3",
   "version": "3.6.7"
  }
 },
 "nbformat": 4,
 "nbformat_minor": 2
}
